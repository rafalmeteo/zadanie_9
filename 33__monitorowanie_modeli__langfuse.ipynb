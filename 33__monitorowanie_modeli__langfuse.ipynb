{
 "cells": [
  {
   "cell_type": "code",
   "execution_count": 45,
   "metadata": {},
   "outputs": [
    {
     "name": "stdout",
     "output_type": "stream",
     "text": [
      "Note: you may need to restart the kernel to use updated packages.\n"
     ]
    }
   ],
   "source": [
    "\n",
    "%pip install --quiet openai python-dotenv pandas itables\n",
    "\n",
    "\n"
   ]
  },
  {
   "cell_type": "code",
   "execution_count": 46,
   "metadata": {},
   "outputs": [
    {
     "name": "stdout",
     "output_type": "stream",
     "text": [
      "Note: you may need to restart the kernel to use updated packages.\n"
     ]
    }
   ],
   "source": [
    "%pip install --quiet langfuse"
   ]
  },
  {
   "cell_type": "code",
   "execution_count": null,
   "metadata": {},
   "outputs": [],
   "source": [
    "import os\n",
    "import json\n",
    "import pandas as pd\n",
    "from dotenv import load_dotenv\n",
    "import openai\n",
    "\n",
    "# Wczytaj zmienne środowiskowe\n",
    "load_dotenv()\n",
    "openai.api_key = os.getenv(\"OPENAI_API_KEY\")\n",
    "\n",
    "vacation_emails = [\n",
    "    \"Witaj, Chciałbym pojechać na wakacje do Malagi na 7 dni. Mam już wybrany lot i nocleg. Uwielbiam organizować wszystko sam.\",\n",
    "    \"Cześć, szukam agencji która pomoże mi zorganizować wyjazd do Włoch na 2 tygodnie.\",\n",
    "    \"Hej, chcę pojechać na wakacje do Barcelony na 10 dni. Znasz jakieś dobre biuro do polecenia?\",\n",
    "    \"Cześć, chcę pojechać na wakacje do Paryża na 3 dni. Czy możesz mi pomóc znaleźć oferty?\",\n",
    "    \"Dawno nie byłem na wakacjach. Marzy mi się wyjazd do Aten na 2 tygodnie, ale nie mam czasu na organizację. Najchętniej skorzystałbym z pomocy biura podróży.\",\n",
    "]\n",
    "\n",
    "def get_data_from_email(email, model=\"gpt-4o\"):\n",
    "    prompt = \"\"\" ... \"\"\"  # <- (pozostaw cały prompt jak był)\n",
    "\n",
    "    messages = [\n",
    "        {\"role\": \"system\", \"content\": prompt},\n",
    "        {\"role\": \"user\", \"content\": f\"```{email}```\"},\n",
    "    ]\n",
    "\n",
    "    client = OpenAI()  # upewnij się, że masz openai>=1.0 zainstalowane\n",
    "\n",
    "    response = client.chat.completions.create(\n",
    "    model=model,\n",
    "    messages=messages,\n",
    "    )\n",
    "\n",
    "result = response.choices[0].message.content\n",
    "\n",
    "\n",
    "    try:\n",
    "        return json.loads(result)\n",
    "    except json.JSONDecodeError:\n",
    "        return {\"error\": result}\n",
    "\n",
    "def get_data_from_emails(emails):\n",
    "    results = []\n",
    "    for email in emails:\n",
    "        data = get_data_from_email(email=email)\n",
    "        results.append({\"email\": email, **data})\n",
    "    return pd.DataFrame(results)\n"
   ]
  },
  {
   "cell_type": "code",
   "execution_count": 61,
   "metadata": {},
   "outputs": [
    {
     "ename": "APIRemovedInV1",
     "evalue": "\n\nYou tried to access openai.ChatCompletion, but this is no longer supported in openai>=1.0.0 - see the README at https://github.com/openai/openai-python for the API.\n\nYou can run `openai migrate` to automatically upgrade your codebase to use the 1.0.0 interface. \n\nAlternatively, you can pin your installation to the old version, e.g. `pip install openai==0.28`\n\nA detailed migration guide is available here: https://github.com/openai/openai-python/discussions/742\n",
     "output_type": "error",
     "traceback": [
      "\u001b[1;31m---------------------------------------------------------------------------\u001b[0m",
      "\u001b[1;31mAPIRemovedInV1\u001b[0m                            Traceback (most recent call last)",
      "Cell \u001b[1;32mIn[61], line 1\u001b[0m\n\u001b[1;32m----> 1\u001b[0m data \u001b[38;5;241m=\u001b[39m  \u001b[43mget_data_from_emails\u001b[49m\u001b[43m(\u001b[49m\u001b[43mvacation_emails\u001b[49m\u001b[43m)\u001b[49m\n\u001b[0;32m      2\u001b[0m langfuse\u001b[38;5;241m.\u001b[39mflush()\n",
      "Cell \u001b[1;32mIn[59], line 42\u001b[0m, in \u001b[0;36mget_data_from_emails\u001b[1;34m(emails)\u001b[0m\n\u001b[0;32m     40\u001b[0m results \u001b[38;5;241m=\u001b[39m []\n\u001b[0;32m     41\u001b[0m \u001b[38;5;28;01mfor\u001b[39;00m email \u001b[38;5;129;01min\u001b[39;00m emails:\n\u001b[1;32m---> 42\u001b[0m     data \u001b[38;5;241m=\u001b[39m \u001b[43mget_data_from_email\u001b[49m\u001b[43m(\u001b[49m\u001b[43memail\u001b[49m\u001b[38;5;241;43m=\u001b[39;49m\u001b[43memail\u001b[49m\u001b[43m)\u001b[49m\n\u001b[0;32m     43\u001b[0m     results\u001b[38;5;241m.\u001b[39mappend({\u001b[38;5;124m\"\u001b[39m\u001b[38;5;124memail\u001b[39m\u001b[38;5;124m\"\u001b[39m: email, \u001b[38;5;241m*\u001b[39m\u001b[38;5;241m*\u001b[39mdata})\n\u001b[0;32m     44\u001b[0m \u001b[38;5;28;01mreturn\u001b[39;00m pd\u001b[38;5;241m.\u001b[39mDataFrame(results)\n",
      "Cell \u001b[1;32mIn[59], line 27\u001b[0m, in \u001b[0;36mget_data_from_email\u001b[1;34m(email, model)\u001b[0m\n\u001b[0;32m     20\u001b[0m prompt \u001b[38;5;241m=\u001b[39m \u001b[38;5;124m\"\"\"\u001b[39m\u001b[38;5;124m ... \u001b[39m\u001b[38;5;124m\"\"\"\u001b[39m  \u001b[38;5;66;03m# <- (pozostaw cały prompt jak był)\u001b[39;00m\n\u001b[0;32m     22\u001b[0m messages \u001b[38;5;241m=\u001b[39m [\n\u001b[0;32m     23\u001b[0m     {\u001b[38;5;124m\"\u001b[39m\u001b[38;5;124mrole\u001b[39m\u001b[38;5;124m\"\u001b[39m: \u001b[38;5;124m\"\u001b[39m\u001b[38;5;124msystem\u001b[39m\u001b[38;5;124m\"\u001b[39m, \u001b[38;5;124m\"\u001b[39m\u001b[38;5;124mcontent\u001b[39m\u001b[38;5;124m\"\u001b[39m: prompt},\n\u001b[0;32m     24\u001b[0m     {\u001b[38;5;124m\"\u001b[39m\u001b[38;5;124mrole\u001b[39m\u001b[38;5;124m\"\u001b[39m: \u001b[38;5;124m\"\u001b[39m\u001b[38;5;124muser\u001b[39m\u001b[38;5;124m\"\u001b[39m, \u001b[38;5;124m\"\u001b[39m\u001b[38;5;124mcontent\u001b[39m\u001b[38;5;124m\"\u001b[39m: \u001b[38;5;124mf\u001b[39m\u001b[38;5;124m\"\u001b[39m\u001b[38;5;124m```\u001b[39m\u001b[38;5;132;01m{\u001b[39;00memail\u001b[38;5;132;01m}\u001b[39;00m\u001b[38;5;124m```\u001b[39m\u001b[38;5;124m\"\u001b[39m},\n\u001b[0;32m     25\u001b[0m ]\n\u001b[1;32m---> 27\u001b[0m response \u001b[38;5;241m=\u001b[39m \u001b[43mopenai\u001b[49m\u001b[38;5;241;43m.\u001b[39;49m\u001b[43mChatCompletion\u001b[49m\u001b[38;5;241;43m.\u001b[39;49m\u001b[43mcreate\u001b[49m\u001b[43m(\u001b[49m\n\u001b[0;32m     28\u001b[0m \u001b[43m    \u001b[49m\u001b[43mmodel\u001b[49m\u001b[38;5;241;43m=\u001b[39;49m\u001b[43mmodel\u001b[49m\u001b[43m,\u001b[49m\n\u001b[0;32m     29\u001b[0m \u001b[43m    \u001b[49m\u001b[43mmessages\u001b[49m\u001b[38;5;241;43m=\u001b[39;49m\u001b[43mmessages\u001b[49m\u001b[43m,\u001b[49m\n\u001b[0;32m     30\u001b[0m \u001b[43m\u001b[49m\u001b[43m)\u001b[49m\n\u001b[0;32m     32\u001b[0m result \u001b[38;5;241m=\u001b[39m response\u001b[38;5;241m.\u001b[39mchoices[\u001b[38;5;241m0\u001b[39m]\u001b[38;5;241m.\u001b[39mmessage\u001b[38;5;241m.\u001b[39mcontent\n\u001b[0;32m     34\u001b[0m \u001b[38;5;28;01mtry\u001b[39;00m:\n",
      "File \u001b[1;32mc:\\Users\\Dom\\miniconda3\\envs\\marathon-app\\lib\\site-packages\\openai\\lib\\_old_api.py:39\u001b[0m, in \u001b[0;36mAPIRemovedInV1Proxy.__call__\u001b[1;34m(self, *_args, **_kwargs)\u001b[0m\n\u001b[0;32m     38\u001b[0m \u001b[38;5;28;01mdef\u001b[39;00m\u001b[38;5;250m \u001b[39m\u001b[38;5;21m__call__\u001b[39m(\u001b[38;5;28mself\u001b[39m, \u001b[38;5;241m*\u001b[39m_args: Any, \u001b[38;5;241m*\u001b[39m\u001b[38;5;241m*\u001b[39m_kwargs: Any) \u001b[38;5;241m-\u001b[39m\u001b[38;5;241m>\u001b[39m Any:\n\u001b[1;32m---> 39\u001b[0m     \u001b[38;5;28;01mraise\u001b[39;00m APIRemovedInV1(symbol\u001b[38;5;241m=\u001b[39m\u001b[38;5;28mself\u001b[39m\u001b[38;5;241m.\u001b[39m_symbol)\n",
      "\u001b[1;31mAPIRemovedInV1\u001b[0m: \n\nYou tried to access openai.ChatCompletion, but this is no longer supported in openai>=1.0.0 - see the README at https://github.com/openai/openai-python for the API.\n\nYou can run `openai migrate` to automatically upgrade your codebase to use the 1.0.0 interface. \n\nAlternatively, you can pin your installation to the old version, e.g. `pip install openai==0.28`\n\nA detailed migration guide is available here: https://github.com/openai/openai-python/discussions/742\n"
     ]
    }
   ],
   "source": [
    "data =  get_data_from_emails(vacation_emails)\n",
    "langfuse.flush()"
   ]
  },
  {
   "cell_type": "markdown",
   "metadata": {},
   "source": [
    "## Tworzenie datasetu"
   ]
  },
  {
   "cell_type": "code",
   "execution_count": null,
   "metadata": {},
   "outputs": [],
   "source": []
  },
  {
   "cell_type": "code",
   "execution_count": null,
   "metadata": {},
   "outputs": [],
   "source": [
    "dataset_name = \"vacation-emails\"\n",
    "langfuse.create_dataset(name=dataset_name);"
   ]
  },
  {
   "cell_type": "code",
   "execution_count": null,
   "metadata": {},
   "outputs": [],
   "source": [
    "expected_outputs = [\n",
    "    {\n",
    "    \"city\": \"Malaga\",\n",
    "    \"country\": \"Hiszpania\",\n",
    "    \"duration\": 7,\n",
    "    \"by_agency\": False,\n",
    "    \"attractions\": \"Alcazaba, Castillo de Gibralfaro, Museo Picasso Malaga\"\n",
    "    },\n",
    "    {\n",
    "    \"city\": None,\n",
    "    \"country\": \"Włochy\",\n",
    "    \"duration\": 14,\n",
    "    \"by_agency\": True,\n",
    "    \"attractions\": \"Koloseum, Fontanna di Trevi, Panteon\"\n",
    "    },\n",
    "    {\n",
    "    \"city\": \"Barcelona\",\n",
    "    \"country\": \"Hiszpania\",\n",
    "    \"duration\": 10,\n",
    "    \"by_agency\": True,\n",
    "    \"attractions\": \"Sagrada Familia, Park Guell, La Rambla\"\n",
    "    },\n",
    "    {\n",
    "    \"city\": \"Paryż\",\n",
    "    \"country\": \"Francja\",\n",
    "    \"duration\": 3,\n",
    "    \"by_agency\": True,\n",
    "    \"attractions\": \"Wieża Eiffla, Luwr, Katedra Notre-Dame\"\n",
    "    },\n",
    "    {\n",
    "    \"city\": \"Ateny\",\n",
    "    \"country\": \"Grecja\",\n",
    "    \"duration\": 14,\n",
    "    \"by_agency\": True,\n",
    "    \"attractions\": \"Partenon, Akropol, Muzeum Akropolu\"\n",
    "    }\n",
    "]\n"
   ]
  },
  {
   "cell_type": "code",
   "execution_count": null,
   "metadata": {},
   "outputs": [],
   "source": [
    "for email, output in zip(vacation_emails, expected_outputs):\n",
    "    langfuse.create_dataset_item(\n",
    "      dataset_name=dataset_name,\n",
    "      input=email,\n",
    "      expected_output=output,\n",
    ")"
   ]
  },
  {
   "cell_type": "markdown",
   "metadata": {},
   "source": [
    "## Uruchamianie eksperymentów na datasecie"
   ]
  },
  {
   "cell_type": "code",
   "execution_count": null,
   "metadata": {},
   "outputs": [],
   "source": [
    "def output_evaluator(expected_output, output):\n",
    "    score = 0.0\n",
    "    fields = ['city', 'country', 'duration', 'by_agency', 'attractions']\n",
    "    for field in fields:\n",
    "        if expected_output.get(field) == output.get(field):\n",
    "            score += 1.0 / len(fields)\n",
    "    return score"
   ]
  },
  {
   "cell_type": "code",
   "execution_count": null,
   "metadata": {},
   "outputs": [],
   "source": [
    "dataset = langfuse.get_dataset(dataset_name)\n",
    "models = [\"gpt-4o\", \"gpt-4-turbo\", \"gpt-4o-mini\",\"gpt-3.5-turbo-0125\"]\n",
    "\n",
    "for model in models:\n",
    "    for item in dataset.items:\n",
    "        output, trace = get_data_from_email(email=item.input, model=model)\n",
    "\n",
    "        item.link(\n",
    "            trace,     \n",
    "            run_name=f\"eksperyment-z-modelem-{model}\",\n",
    "            run_description=f\"Eksperyment z modelem {model}\",\n",
    "            run_metadata={\"model\": model},\n",
    "        )\n",
    "\n",
    "        # opcjonalnie możemy dodać funkcję oceniającą wynik \n",
    "        langfuse.score(\n",
    "            trace_id=trace.id,\n",
    "            name=\"extraction-score\",\n",
    "            value=output_evaluator(item.expected_output, output),\n",
    "            comment=\"Jak dobrze llm radzi sobie z wyciągnięciem danych\",\n",
    "        )\n",
    "langfuse.flush()"
   ]
  },
  {
   "cell_type": "markdown",
   "metadata": {},
   "source": [
    "## Eksportowanie danych do dataframe"
   ]
  },
  {
   "cell_type": "code",
   "execution_count": null,
   "metadata": {},
   "outputs": [],
   "source": [
    "traces = langfuse.fetch_traces()"
   ]
  },
  {
   "cell_type": "code",
   "execution_count": null,
   "metadata": {},
   "outputs": [],
   "source": [
    "traces.data[0].json()"
   ]
  },
  {
   "cell_type": "code",
   "execution_count": null,
   "metadata": {},
   "outputs": [],
   "source": [
    "data = []\n",
    "\n",
    "for item in traces.data:\n",
    "    data.append(\n",
    "        {\n",
    "            \"timestamp\": item.timestamp,\n",
    "            \"email\": item.input[1]['content'],\n",
    "            \"city\": item.output.get(\"city\") if item.output else None,\n",
    "            \"country\": item.output.get(\"country\") if item.output else None,\n",
    "            \"duration\": item.output.get(\"duration\") if item.output else None,\n",
    "            \"by_agency\": item.output.get(\"by_agency\") if item.output else None,\n",
    "            \"attractions\": item.output.get(\"attractions\") if item.output else None,\n",
    "            \"error\": item.output.get(\"error\") if item.output else None,\n",
    "            \"latency\": item.latency,\n",
    "            \"cost\": item.total_cost,\n",
    "            \"html_path\": item.html_path,\n",
    "        }\n",
    "    )\n",
    "\n",
    "\n",
    "traces_df = pd.DataFrame(columns=['timestamp','email','city','country','duration','by_agency','attractions','error','latency','cost','html_path'],data=data)"
   ]
  },
  {
   "cell_type": "code",
   "execution_count": null,
   "metadata": {},
   "outputs": [],
   "source": [
    "traces_df"
   ]
  },
  {
   "cell_type": "markdown",
   "metadata": {},
   "source": [
    "## Alternatywa z dekoratorem"
   ]
  },
  {
   "cell_type": "code",
   "execution_count": null,
   "metadata": {},
   "outputs": [],
   "source": [
    "# Importowanie modułów langfuse\n",
    "from langfuse.decorators import observe\n",
    "from langfuse.openai import OpenAI as LangfuseOpenAI\n"
   ]
  },
  {
   "cell_type": "code",
   "execution_count": null,
   "metadata": {},
   "outputs": [],
   "source": [
    "# Z obserwacją\n",
    "llm_client = LangfuseOpenAI(api_key=os.environ.get(\"OPENAI_API_KEY\"))"
   ]
  },
  {
   "cell_type": "code",
   "execution_count": null,
   "metadata": {},
   "outputs": [],
   "source": [
    "@observe()\n",
    "def get_data_from_email_observed(email,model=\"gpt-4o-mini\"):\n",
    "\n",
    "    prompt = \"\"\"\n",
    "    You are awesome helper in parsing the criteria for user vacation planning.\n",
    "    You will be provided with contents of user emails that contain the following data:\n",
    "\n",
    "    <destination> - the place the user wants to visit. It will be either a country or a city.\n",
    "    <city> - this is taken from the <destination> and is the city the user wants to visit.\n",
    "    <country> - this is taken from the <destination> and is the country the user wants to visit.\n",
    "    <duration> - the number of days the user wants to stay in the <destination>. If the user will \n",
    "    provide the information in weeks or months then please convert the value to days.\n",
    "    <by_agency> - this is tricky. From the provided information try to determine if the user wants to\n",
    "    organize the trip by themselves or if they want to use a travel agency. \n",
    "\n",
    "    Return the value as a dictionary the following keys\n",
    "    - city - as a string or null if not provided\n",
    "    - country - as a string or null if not provided\n",
    "    - duration - as an integer or null if not provided\n",
    "    - by_agency - as a boolean or null if not provided\n",
    "\n",
    "    For the information provided by the user create a recommendation for attractions that they should visit.\n",
    "    Please add the information as a comma separated list of strings and put it in the \"attractions\" key in the dictionary.\n",
    "    If the key does not exist then add it to the dictionary.\n",
    "    Take your time to provide at most 3 best attraction based on the destination and the duration of the stay.\n",
    "\n",
    "    The user will provide the data in polish and but you should respond with the json as defined above\n",
    "    and you should use exactly those keys. Return a valid dictionary, nothing else.\n",
    "    I will parse the result with json.loads() function in python so please make sure the result is valid.\n",
    "\n",
    "    Here is an example of the email content:\n",
    "    ```\n",
    "    Witaj,\n",
    "    Chciałbym pojechać na wakacje do Malagi na 7 dni. Czy możesz mi pomóc w znalezieniu oferty?\n",
    "    ```\n",
    "\n",
    "    In this case the dictionary should look like this:\n",
    "    {\n",
    "    \"city\": \"Malaga\",\n",
    "    \"country\": \"Hiszpania\",\n",
    "    \"duration\": 7,\n",
    "    \"by_agency\": null\n",
    "    }\n",
    "    \"\"\"\n",
    "\n",
    "    messages=[\n",
    "        {\n",
    "            \"role\": \"system\",\n",
    "            \"content\": prompt,\n",
    "        },\n",
    "        {\n",
    "            \"role\": \"user\",\n",
    "            \"content\": f\"```{email}```\",\n",
    "        },\n",
    "    ]\n",
    "\n",
    "    chat_completion = llm_client.chat.completions.create(\n",
    "        response_format={\"type\": \"json_object\"},\n",
    "        messages=messages, \n",
    "        model=model,\n",
    "        # dodatkowe\n",
    "        name=\"get_data_from_email_observed\",\n",
    "    )\n",
    "    resp = chat_completion.choices[0].message.content\n",
    "    try:\n",
    "        output = json.loads(resp)\n",
    "    except:\n",
    "        output = {\"error\": resp}\n",
    "    return output\n",
    "\n",
    "\n",
    "def get_data_from_emails_observed(emails):\n",
    "    results = []\n",
    "    for email in emails:\n",
    "        results.append({\"email\" : email, **get_data_from_email_observed(email)})\n",
    "    return pd.DataFrame(columns=['email','city','country','duration','by_agency','attractions','error'],data=results)"
   ]
  },
  {
   "cell_type": "code",
   "execution_count": null,
   "metadata": {},
   "outputs": [],
   "source": [
    "get_data_from_emails_observed(vacation_emails)"
   ]
  },
  {
   "cell_type": "code",
   "execution_count": null,
   "metadata": {},
   "outputs": [],
   "source": [
    "dataset = langfuse.get_dataset(dataset_name)\n",
    "models = [\"gpt-4o\", \"gpt-4-turbo\", \"gpt-4o-mini\",\"gpt-3.5-turbo-0125\"]\n",
    "\n",
    "for model in models:\n",
    "    for item in dataset.items:\n",
    "\n",
    "        with item.observe(\n",
    "            run_name=f\"eksperyment-z-modelem-{model}-ale-z-dekoratorem\",\n",
    "            run_description=f\"Eksperyment z modelem {model} ale z dekoratorem\",\n",
    "            run_metadata={\"model\": model},\n",
    "        ) as trace_id:\n",
    "\n",
    "            output = get_data_from_email_observed(email=item.input, model=model)\n",
    "\n",
    "            # opcjonalnie możemy dodać funkcję oceniającą wynik \n",
    "            langfuse.score(\n",
    "                trace_id=trace_id,\n",
    "                name=\"extraction-score\",\n",
    "                value=output_evaluator(item.expected_output, output),\n",
    "                comment=\"Jak dobrze llm radzi sobie z wyciągnięciem danych\",\n",
    "            )\n",
    "langfuse.flush()"
   ]
  }
 ],
 "metadata": {
  "kernelspec": {
   "display_name": "marathon-app",
   "language": "python",
   "name": "python3"
  },
  "language_info": {
   "codemirror_mode": {
    "name": "ipython",
    "version": 3
   },
   "file_extension": ".py",
   "mimetype": "text/x-python",
   "name": "python",
   "nbconvert_exporter": "python",
   "pygments_lexer": "ipython3",
   "version": "3.10.18"
  }
 },
 "nbformat": 4,
 "nbformat_minor": 4
}
